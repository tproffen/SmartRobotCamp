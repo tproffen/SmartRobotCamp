{
  "nbformat": 4,
  "nbformat_minor": 0,
  "metadata": {
    "colab": {
      "name": "ObjectDetectionDemo.ipynb",
      "provenance": [],
      "collapsed_sections": [],
      "authorship_tag": "ABX9TyPUE5xQBLOVYWEZEt21yQW5",
      "include_colab_link": true
    },
    "kernelspec": {
      "name": "python3",
      "display_name": "Python 3"
    }
  },
  "cells": [
    {
      "cell_type": "markdown",
      "metadata": {
        "id": "view-in-github",
        "colab_type": "text"
      },
      "source": [
        "<a href=\"https://colab.research.google.com/github/tproffen/SmartRobotCamp/blob/master/Notebooks/Colaboratory/ObjectDetectionDemo.ipynb\" target=\"_parent\"><img src=\"https://colab.research.google.com/assets/colab-badge.svg\" alt=\"Open In Colab\"/></a>"
      ]
    },
    {
      "cell_type": "code",
      "metadata": {
        "id": "ioGiqVH2LdrQ",
        "colab_type": "code",
        "colab": {}
      },
      "source": [
        "!pip install cvlib  # If it is missing"
      ],
      "execution_count": 0,
      "outputs": []
    },
    {
      "cell_type": "code",
      "metadata": {
        "id": "pPeXd4nnAk0Y",
        "colab_type": "code",
        "colab": {}
      },
      "source": [
        "from IPython.display import HTML, Audio\n",
        "from google.colab.output import eval_js\n",
        "from base64 import b64decode\n",
        "import numpy as np\n",
        "from PIL import Image\n",
        "import requests\n",
        "import io\n",
        "from io import BytesIO\n",
        "import cvlib as cv\n",
        "from cvlib.object_detection import draw_bbox\n",
        "import matplotlib.pyplot as plt\n",
        "\n",
        "%matplotlib inline\n"
      ],
      "execution_count": 0,
      "outputs": []
    },
    {
      "cell_type": "code",
      "metadata": {
        "id": "Hqy2AepqJuZb",
        "colab_type": "code",
        "colab": {}
      },
      "source": [
        "VIDEO_HTML = \"\"\"\n",
        "<video autoplay\n",
        " width=%d height=%d style='cursor: pointer;'></video>\n",
        "<script>\n",
        "\n",
        "var video = document.querySelector('video')\n",
        "\n",
        "navigator.mediaDevices.getUserMedia({ video: true })\n",
        "  .then(stream=> video.srcObject = stream)\n",
        "  \n",
        "var data = new Promise(resolve=>{\n",
        "  video.onclick = ()=>{\n",
        "    var canvas = document.createElement('canvas')\n",
        "    var [w,h] = [video.offsetWidth, video.offsetHeight]\n",
        "    canvas.width = w\n",
        "    canvas.height = h\n",
        "    canvas.getContext('2d')\n",
        "          .drawImage(video, 0, 0, w, h)\n",
        "    video.srcObject.getVideoTracks()[0].stop()\n",
        "    video.replaceWith(canvas)\n",
        "    resolve(canvas.toDataURL('image/jpeg', %f))\n",
        "  }\n",
        "})\n",
        "</script>\n",
        "\"\"\"\n",
        "def take_photo(filename='photo.jpg', quality=0.8, size=(400,300)):\n",
        "  display(HTML(VIDEO_HTML % (size[0],size[1],quality)))\n",
        "  data = eval_js(\"data\")\n",
        "  binary = b64decode(data.split(',')[1])\n",
        "  f = io.BytesIO(binary)\n",
        "  return np.asarray(Image.open(f))"
      ],
      "execution_count": 0,
      "outputs": []
    },
    {
      "cell_type": "code",
      "metadata": {
        "id": "zU9-AA-CAYMu",
        "colab_type": "code",
        "colab": {}
      },
      "source": [
        "def load_photo(url):\n",
        "  response = requests.get(url)\n",
        "  return np.asarray(Image.open(BytesIO(response.content)))"
      ],
      "execution_count": 0,
      "outputs": []
    },
    {
      "cell_type": "code",
      "metadata": {
        "id": "d2Apq_xLKkWn",
        "colab_type": "code",
        "colab": {}
      },
      "source": [
        "img = take_photo() # click"
      ],
      "execution_count": 0,
      "outputs": []
    },
    {
      "cell_type": "code",
      "metadata": {
        "id": "abBlzOLJB1hq",
        "colab_type": "code",
        "colab": {}
      },
      "source": [
        "url=\"https://miro.medium.com/max/1744/1*EYFejGUjvjPcc4PZTwoufw.jpeg\"\n",
        "img = load_photo(url)"
      ],
      "execution_count": 0,
      "outputs": []
    },
    {
      "cell_type": "markdown",
      "metadata": {
        "id": "8zFRcwKtK-us",
        "colab_type": "text"
      },
      "source": [
        "Object recognition next"
      ]
    },
    {
      "cell_type": "code",
      "metadata": {
        "id": "Tu06-lRPJ7UA",
        "colab_type": "code",
        "colab": {}
      },
      "source": [
        "import cvlib as cv\n",
        "import matplotlib.pyplot as plt\n",
        "from cvlib.object_detection import draw_bbox\n",
        "\n",
        "%matplotlib inline\n",
        "\n",
        "bbox, label, conf = cv.detect_common_objects(img)\n",
        "output_image = draw_bbox(img, bbox, label, conf)\n",
        "\n",
        "plt.figure(figsize=(10,10))\n",
        "plt.axis('off')\n",
        "plt.imshow(output_image)\n",
        "plt.show()"
      ],
      "execution_count": 0,
      "outputs": []
    },
    {
      "cell_type": "code",
      "metadata": {
        "id": "_58VMS8kKdgN",
        "colab_type": "code",
        "colab": {}
      },
      "source": [
        ""
      ],
      "execution_count": 0,
      "outputs": []
    }
  ]
}