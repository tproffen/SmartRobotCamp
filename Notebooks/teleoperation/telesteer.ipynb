{
 "cells": [
  {
   "cell_type": "code",
   "execution_count": null,
   "metadata": {},
   "outputs": [],
   "source": [
    "import ipywidgets.widgets as widgets\n",
    "from jetbot import Robot, Camera, bgr8_to_jpeg\n",
    "from jetbot import Camera\n",
    "\n",
    "import traitlets\n",
    "\n",
    "import uuid\n",
    "import subprocess"
   ]
  },
  {
   "cell_type": "markdown",
   "metadata": {},
   "source": [
    "#  Example using steer and drive\n",
    "\n",
    "Rather than using left and right motor like before, we want to use a drive and steer knob."
   ]
  },
  {
   "cell_type": "code",
   "execution_count": null,
   "metadata": {},
   "outputs": [],
   "source": [
    "controller = widgets.Controller(index=0)  # replace with index of your controller\n",
    "display(controller)"
   ]
  },
  {
   "cell_type": "markdown",
   "metadata": {},
   "source": [
    "Creating robot and camera instances like before."
   ]
  },
  {
   "cell_type": "code",
   "execution_count": null,
   "metadata": {},
   "outputs": [],
   "source": [
    "robot=Robot()\n",
    "camera = Camera.instance()"
   ]
  },
  {
   "cell_type": "code",
   "execution_count": null,
   "metadata": {},
   "outputs": [],
   "source": [
    "image = widgets.Image(format='jpeg', width=300, height=300)\n",
    "camera_link = traitlets.dlink((camera, 'value'), (image, 'value'), transform=bgr8_to_jpeg)"
   ]
  },
  {
   "cell_type": "markdown",
   "metadata": {},
   "source": [
    "Here is the main difference. Since we cannot simply associate a joystick value to a motor value, we need to create a class that has the traits `lin` (speed forward/backward) and `ang` (steering). These get set by the joysticks. The `observe` function then calls `control_vel` everytime a value changes. This makes this control a bit less responsive than in the other example."
   ]
  },
  {
   "cell_type": "code",
   "execution_count": null,
   "metadata": {},
   "outputs": [],
   "source": [
    "class Vel(traitlets.HasTraits):\n",
    "    lin = traitlets.Float(default_value=0.0)\n",
    "    ang = traitlets.Float(default_value=0.0)\n",
    "\n",
    "vel = Vel()\n",
    "wheel_separation = 1.0\n",
    "\n",
    "lin_link =  traitlets.dlink((controller.axes[1], 'value'), (vel, 'lin'), transform=lambda x: -0.5*x)\n",
    "ang_link = traitlets.dlink((controller.axes[2], 'value'), (vel, 'ang'), transform=lambda x: -0.5*x)\n",
    "\n",
    "def control_vel(change):\n",
    "    robot.left_motor.value = vel.lin - (vel.ang * wheel_separation / 2);\n",
    "    robot.right_motor.value  = vel.lin + (vel.ang * wheel_separation / 2);\n",
    "\n",
    "vel.observe(control_vel, names=('lin', 'ang'))\n"
   ]
  },
  {
   "cell_type": "markdown",
   "metadata": {},
   "source": [
    "Finally the same code to take a snapshot and display everything on the screen. Remember, you can create a separate output window :)"
   ]
  },
  {
   "cell_type": "code",
   "execution_count": null,
   "metadata": {},
   "outputs": [],
   "source": [
    "subprocess.call(['mkdir', '-p', 'snapshots'])\n",
    "\n",
    "snapshot_image = widgets.Image(format='jpeg', width=300, height=300)\n",
    "\n",
    "def save_snapshot(change):\n",
    "    # save snapshot when button is pressed down\n",
    "    if change['new']:\n",
    "        file_path = 'snapshots/' + str(uuid.uuid1()) + '.jpg'\n",
    "        \n",
    "        # write snapshot to file (we use image value instead of camera because it's already in JPEG format)\n",
    "        with open(file_path, 'wb') as f:\n",
    "            f.write(image.value)\n",
    "            \n",
    "        # display snapshot that was saved\n",
    "        snapshot_image.value = image.value\n",
    "\n",
    "\n",
    "controller.buttons[2].observe(save_snapshot, names='value')\n",
    "\n",
    "display(widgets.HBox([image, snapshot_image]))\n",
    "display(controller)"
   ]
  },
  {
   "cell_type": "code",
   "execution_count": null,
   "metadata": {},
   "outputs": [],
   "source": []
  }
 ],
 "metadata": {
  "kernelspec": {
   "display_name": "Python 3",
   "language": "python",
   "name": "python3"
  },
  "language_info": {
   "codemirror_mode": {
    "name": "ipython",
    "version": 3
   },
   "file_extension": ".py",
   "mimetype": "text/x-python",
   "name": "python",
   "nbconvert_exporter": "python",
   "pygments_lexer": "ipython3",
   "version": "3.6.9"
  }
 },
 "nbformat": 4,
 "nbformat_minor": 2
}
